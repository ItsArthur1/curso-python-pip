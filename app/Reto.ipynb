{
 "cells": [
  {
   "cell_type": "code",
   "execution_count": null,
   "metadata": {},
   "outputs": [],
   "source": [
    "def get_population(country_dict):\n",
    "    population_dict = {\n",
    "    '2022': int(country_dict['2022 Population']),\n",
    "    '2020': int(country_dict['2020 Population']),\n",
    "    '2015': int(country_dict['2015 Population']),\n",
    "    '2010': int(country_dict['2010 Population']),\n",
    "    '2000': int(country_dict['2000 Population']),\n",
    "    '1990': int(country_dict['1990 Population']),\n",
    "    '1980': int(country_dict['1980 Population']),\n",
    "    '1970': int(country_dict['1970 Population'])\n",
    "    }\n",
    "    labels = population_dict.keys()\n",
    "    values = population_dict.values()\n",
    "    return labels, values\n",
    "\n",
    "\n",
    "def population_by_country(data, country):\n",
    "  result = list(filter(lambda item: item['Country'] == country, data))\n",
    "  return result"
   ]
  }
 ],
 "metadata": {
  "kernelspec": {
   "display_name": "Python 3.10.0 64-bit",
   "language": "python",
   "name": "python3"
  },
  "language_info": {
   "name": "python",
   "version": "3.10.0"
  },
  "orig_nbformat": 4,
  "vscode": {
   "interpreter": {
    "hash": "c390d80876fbd9910d2458d1dd8c94156d7fff4a02d59b7b261bce8b8fe96b77"
   }
  }
 },
 "nbformat": 4,
 "nbformat_minor": 2
}
